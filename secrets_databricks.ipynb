{
 "cells": [
  {
   "cell_type": "code",
   "execution_count": 0,
   "metadata": {
    "application/vnd.databricks.v1+cell": {
     "cellMetadata": {},
     "inputWidgets": {},
     "nuid": "f2e5d87b-cbda-4579-a9e5-335b4fd97622",
     "showTitle": false,
     "tableResultSettingsMap": {},
     "title": ""
    }
   },
   "outputs": [],
   "source": [
    "## NOTEBOOK CRIADO PARA INSERIR SENHAS DO DESAFIO DE ENGENHARIA NO SECRETS DO DATABRICKS"
   ]
  },
  {
   "cell_type": "code",
   "execution_count": 0,
   "metadata": {
    "application/vnd.databricks.v1+cell": {
     "cellMetadata": {
      "byteLimit": 2048000,
      "rowLimit": 10000
     },
     "inputWidgets": {},
     "nuid": "135b727b-f752-4c6e-baf9-78593b2638dc",
     "showTitle": false,
     "tableResultSettingsMap": {},
     "title": ""
    }
   },
   "outputs": [],
   "source": [
    "from databricks.sdk import WorkspaceClient"
   ]
  },
  {
   "cell_type": "code",
   "execution_count": 0,
   "metadata": {
    "application/vnd.databricks.v1+cell": {
     "cellMetadata": {},
     "inputWidgets": {},
     "nuid": "341b7a22-f927-42e6-a6d3-628e21117894",
     "showTitle": false,
     "tableResultSettingsMap": {},
     "title": ""
    }
   },
   "outputs": [],
   "source": [
    "## POSTGRES\n",
    "post_user = 'postgres_rds'\n",
    "post_senha = 'rds123456'\n",
    "\n",
    "## MONGODB\n",
    "mongo_user = 'orafaelrp_mongo'\n",
    "mongo_password = 'mEu4md0RZj3g3NcC'"
   ]
  },
  {
   "cell_type": "code",
   "execution_count": 0,
   "metadata": {
    "application/vnd.databricks.v1+cell": {
     "cellMetadata": {
      "byteLimit": 2048000,
      "rowLimit": 10000
     },
     "inputWidgets": {},
     "nuid": "728a68cf-ceed-49b2-ae28-0f783529b9fe",
     "showTitle": false,
     "tableResultSettingsMap": {},
     "title": ""
    }
   },
   "outputs": [],
   "source": [
    "w = WorkspaceClient()\n",
    "\n",
    "## EXECUTADO APENAS A PRIMEIRA VEZ\n",
    "## w.secrets.create_scope(\"db_secrets\")\n",
    "\n",
    "## INSERINDO DADOS POSTGRES NO SECRETS\n",
    "w.secrets.put_secret(\"db_secrets\", \"postgres_user\", string_value=\"postgres_rds\")\n",
    "w.secrets.put_secret(\"db_secrets\", \"postgres_password\", string_value=\"rds123456\")\n",
    "\n",
    "## INSERINDO DADOS MONGO NO SECRETS\n",
    "w.secrets.put_secret(\"db_secrets\", \"mongo_user\", string_value=\"orafaelrp_mongo\")\n",
    "w.secrets.put_secret(\"db_secrets\", \"mongo_password\", string_value=\"mEu4md0RZj3g3NcC\")"
   ]
  },
  {
   "cell_type": "code",
   "execution_count": 0,
   "metadata": {
    "application/vnd.databricks.v1+cell": {
     "cellMetadata": {
      "byteLimit": 2048000,
      "rowLimit": 10000
     },
     "inputWidgets": {},
     "nuid": "423c011b-851c-43a8-bfab-432e768757e2",
     "showTitle": false,
     "tableResultSettingsMap": {},
     "title": ""
    }
   },
   "outputs": [],
   "source": [
    "## VARIAVEIS DE CONEXAO\n",
    "postgres_user = dbutils.secrets.get(scope=\"db_secrets\", key=\"postgres_user\")\n",
    "postgres_password = dbutils.secrets.get(scope=\"db_secrets\", key=\"postgres_password\")\n",
    "mongo_user = dbutils.secrets.get(scope=\"db_secrets\", key=\"mongo_user\")\n",
    "mongo_password = dbutils.secrets.get(scope=\"db_secrets\", key=\"mongo_password\")\n"
   ]
  },
  {
   "cell_type": "code",
   "execution_count": 0,
   "metadata": {
    "application/vnd.databricks.v1+cell": {
     "cellMetadata": {},
     "inputWidgets": {},
     "nuid": "48bef26f-e912-482d-b2a4-3232f7323263",
     "showTitle": false,
     "tableResultSettingsMap": {},
     "title": ""
    }
   },
   "outputs": [],
   "source": [
    "print(\"Secrets Databrckis carregado com sucesso!\")"
   ]
  }
 ],
 "metadata": {
  "application/vnd.databricks.v1+notebook": {
   "computePreferences": null,
   "dashboards": [],
   "environmentMetadata": {
    "base_environment": "",
    "environment_version": "4"
   },
   "inputWidgetPreferences": null,
   "language": "python",
   "notebookMetadata": {
    "pythonIndentUnit": 4
   },
   "notebookName": "secrets_databricks",
   "widgets": {}
  },
  "language_info": {
   "name": "python"
  }
 },
 "nbformat": 4,
 "nbformat_minor": 0
}
