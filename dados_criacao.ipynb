{
 "cells": [
  {
   "cell_type": "code",
   "execution_count": 0,
   "metadata": {
    "application/vnd.databricks.v1+cell": {
     "cellMetadata": {
      "byteLimit": 2048000,
      "rowLimit": 10000
     },
     "inputWidgets": {},
     "nuid": "b10e81dc-1ad5-41b8-8c83-5b900bcc4dcd",
     "showTitle": true,
     "tableResultSettingsMap": {},
     "title": "CABECALHO"
    }
   },
   "outputs": [],
   "source": [
    "## NOTEBOOK DESENVOLVIDO PARA CRIAR DADOS FAKE"
   ]
  },
  {
   "cell_type": "code",
   "execution_count": 0,
   "metadata": {
    "application/vnd.databricks.v1+cell": {
     "cellMetadata": {
      "byteLimit": 2048000,
      "rowLimit": 10000
     },
     "inputWidgets": {},
     "nuid": "2fe260c3-9230-4a01-aa93-f18251cffeba",
     "showTitle": true,
     "tableResultSettingsMap": {},
     "title": "INSTALACOES"
    }
   },
   "outputs": [],
   "source": [
    "## DADOS FAKE\n",
    "!pip install faker"
   ]
  },
  {
   "cell_type": "code",
   "execution_count": 0,
   "metadata": {
    "application/vnd.databricks.v1+cell": {
     "cellMetadata": {
      "byteLimit": 2048000,
      "rowLimit": 10000
     },
     "inputWidgets": {},
     "nuid": "56c95434-d9a3-47cd-8d98-f0411f38c679",
     "showTitle": true,
     "tableResultSettingsMap": {},
     "title": "IMPORTACOES"
    }
   },
   "outputs": [],
   "source": [
    "## ARQUIVOS FAKE\n",
    "import pandas as pd\n",
    "import random\n",
    "\n",
    "from faker import Faker\n",
    "from datetime import date"
   ]
  },
  {
   "cell_type": "markdown",
   "metadata": {
    "application/vnd.databricks.v1+cell": {
     "cellMetadata": {
      "byteLimit": 2048000,
      "rowLimit": 10000
     },
     "inputWidgets": {},
     "nuid": "82181074-7638-4ba8-924a-db17f27af5fe",
     "showTitle": false,
     "tableResultSettingsMap": {},
     "title": ""
    }
   },
   "source": [
    "### Criação de arquivos fake - ASSOCIADO, CONTA e MOVIMENTO"
   ]
  },
  {
   "cell_type": "code",
   "execution_count": 0,
   "metadata": {
    "application/vnd.databricks.v1+cell": {
     "cellMetadata": {
      "byteLimit": 2048000,
      "rowLimit": 10000
     },
     "inputWidgets": {},
     "nuid": "e8381ddb-f185-4d03-9055-d82d1e4cb577",
     "showTitle": true,
     "tableResultSettingsMap": {
      "0": {
       "dataGridStateBlob": "{\"version\":1,\"tableState\":{\"columnPinning\":{\"left\":[\"#row_number#\"],\"right\":[]},\"columnSizing\":{},\"columnVisibility\":{}},\"settings\":{\"columns\":{}},\"syncTimestamp\":1760539231234}",
       "filterBlob": null,
       "queryPlanFiltersBlob": null,
       "tableResultIndex": 0
      }
     },
     "title": "FAKE CONTA"
    }
   },
   "outputs": [],
   "source": [
    "## CRIACAO DE ARQUIVO FAKE CONTA (1000 CONTAS)\n",
    "fake = Faker('pt_BR')\n",
    "data_conta = []\n",
    "for i in range(1, 1001):\n",
    "    if random.choice([True, False]):\n",
    "        id_associado = fake.cpf()\n",
    "    else:\n",
    "        id_associado = fake.cnpj()\n",
    "    id_tipo_conta = random.randint(1, 5)\n",
    "    data_criacao = fake.date_between(\n",
    "        start_date=date(2020, 1, 1),\n",
    "        end_date='today'\n",
    "    ).strftime('%Y-%m-%d')\n",
    "    data_conta.append([i, id_associado, id_tipo_conta, data_criacao])\n",
    "\n",
    "df_fake_conta = pd.DataFrame(data_conta,columns=['id', 'id_associado', 'id_tipo_conta', 'data_criacao'])\n",
    "df_fake_conta['id'] = df_fake_conta['id'].astype(int)\n",
    "df_fake_conta['id_tipo_conta'] = df_fake_conta['id_tipo_conta'].astype(int)\n",
    "df_fake_conta['data_criacao'] = pd.to_datetime(df_fake_conta['data_criacao'])\n",
    "\n",
    "## EXPORTA DADOS EM VOLUME\n",
    "df_fake_conta.to_csv('/Volumes/workspace/default/desafio_tecnico/conta.csv',sep=';',index=False)\n",
    "\n",
    "## AMOSTRA\n",
    "display(df_fake_conta.head(2))"
   ]
  },
  {
   "cell_type": "code",
   "execution_count": 0,
   "metadata": {
    "application/vnd.databricks.v1+cell": {
     "cellMetadata": {
      "byteLimit": 2048000,
      "rowLimit": 10000
     },
     "inputWidgets": {},
     "nuid": "80caeb1c-b481-4575-b5e5-b8b3f0f7ce29",
     "showTitle": true,
     "tableResultSettingsMap": {},
     "title": "FAKE ASSOCIADO"
    }
   },
   "outputs": [],
   "source": [
    "## CRIACAO DE ARQUIVO FAKE ASSOCIADO (1000 ASSOCIADOS)\n",
    "fake = Faker('pt_BR')\n",
    "data = []\n",
    "for i in range(1, 1001):\n",
    "    nome = fake.first_name()\n",
    "    sobrenome = fake.last_name()\n",
    "    idade = random.randint(18, 80)\n",
    "    email = fake.email()\n",
    "    data.append([i, nome, sobrenome, idade, email])\n",
    "\n",
    "df_fake_associado = pd.DataFrame(data, columns=['id', 'nome', 'sobrenome', 'idade', 'email'])\n",
    "\n",
    "## EXPORTA DADOS EM VOLUME\n",
    "df_fake_associado.to_csv('/Volumes/workspace/default/desafio_tecnico/associado.csv', sep=';', index=False)\n",
    "\n",
    "## AMOSTRA\n",
    "display(df_fake_associado.head(2))"
   ]
  },
  {
   "cell_type": "code",
   "execution_count": 0,
   "metadata": {
    "application/vnd.databricks.v1+cell": {
     "cellMetadata": {
      "byteLimit": 2048000,
      "rowLimit": 10000
     },
     "inputWidgets": {},
     "nuid": "b8e2c7db-1200-4eb5-b29c-a28eda6e0c13",
     "showTitle": true,
     "tableResultSettingsMap": {
      "0": {
       "dataGridStateBlob": "{\"version\":1,\"tableState\":{\"columnPinning\":{\"left\":[\"#row_number#\"],\"right\":[]},\"columnSizing\":{},\"columnVisibility\":{}},\"settings\":{\"columns\":{}},\"syncTimestamp\":1760654920129}",
       "filterBlob": null,
       "queryPlanFiltersBlob": null,
       "tableResultIndex": 0
      }
     },
     "title": "FAKE MOVIMENTO"
    }
   },
   "outputs": [],
   "source": [
    "## CRIACAO DE ARQUIVO FAKE MOVIMENTO (1000 TRANSACOES UNICAS)\n",
    "## LISTA MODELO DE TRANSACOES\n",
    "transacoes_cartao = [\n",
    "    'Compra em supermercado',\n",
    "    'Pagamento de fatura',\n",
    "    'Saque em caixa eletrônico',\n",
    "    'Compra online',\n",
    "    'Compra em posto de gasolina',\n",
    "    'Compra em restaurante',\n",
    "    'Transferência entre contas',\n",
    "    'Pagamento de serviço',\n",
    "    'Recarga de celular',\n",
    "    'Assinatura de streaming',\n",
    "    'Compra em farmácia',\n",
    "    'Pagamento de boleto'\n",
    "]\n",
    "\n",
    "data_movimento = []\n",
    "for i in range(1, 1001):\n",
    "    id_cliente = i\n",
    "    id_conta = str(random.randint(100000, 999999))\n",
    "    cartao_ficticio = str(fake.credit_card_number(card_type=None)).zfill(16)\n",
    "    tipo_transacao = random.choice(['DEBITO', 'CREDITO'])\n",
    "    des_transacao = transacoes_cartao[i % len(transacoes_cartao)]\n",
    "    vlr_transacao = round(random.uniform(1.0, 100.0), 2)\n",
    "    data_movimento.append([\n",
    "        id_cliente,\n",
    "        id_conta,\n",
    "        tipo_transacao,\n",
    "        des_transacao,\n",
    "        vlr_transacao,\n",
    "        fake.date_between(start_date='-1y', end_date='today').strftime('%Y-%m-%d'),\n",
    "        cartao_ficticio\n",
    "    ])\n",
    "\n",
    "df_fake_movimento = pd.DataFrame(data_movimento, columns=['id','id_conta','tipo_transacao','des_transacao','vlr_transacao','data_movimento','cartao_ficticio'])\n",
    "df_fake_movimento.to_csv('/Volumes/workspace/default/desafio_tecnico/movimento.csv', sep=';', index=False)\n",
    "\n",
    "## AMOSTRA\n",
    "display(df_fake_movimento.head(2))"
   ]
  }
 ],
 "metadata": {
  "application/vnd.databricks.v1+notebook": {
   "computePreferences": {
    "hardware": {
     "accelerator": null,
     "gpuPoolId": null,
     "memory": null
    }
   },
   "dashboards": [],
   "environmentMetadata": {
    "base_environment": "",
    "environment_version": "4"
   },
   "inputWidgetPreferences": null,
   "language": "python",
   "notebookMetadata": {
    "pythonIndentUnit": 4
   },
   "notebookName": "dados_criacao",
   "widgets": {}
  },
  "language_info": {
   "name": "python"
  }
 },
 "nbformat": 4,
 "nbformat_minor": 0
}
